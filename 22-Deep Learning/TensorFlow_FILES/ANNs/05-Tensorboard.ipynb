{
 "cells": [
  {
   "cell_type": "markdown",
   "metadata": {},
   "source": [
    "<a href=\"https://www.pieriandata.com\"><img src=\"../Pierian_Data_Logo.PNG\"></a>\n",
    "<strong><center>Copyright by Pierian Data Inc.</center></strong> \n",
    "<strong><center>Created by Jose Marcial Portilla.</center></strong>"
   ]
  },
  {
   "cell_type": "markdown",
   "metadata": {},
   "source": [
    "# Tensorboard\n",
    "\n",
    "---\n",
    "---\n",
    "\n",
    "**NOTE: You must watch the corresponding video to understand this lecture. This notebook can't serve as a full guide. Please watch the video BEFORE posting questions to the QA forum.**\n",
    "\n",
    "---\n",
    "---\n",
    "\n",
    "Let's explore the built in data visualization capabilities that come with Tensorboard.\n",
    "\n",
    "Full official tutorial available here: https://www.tensorflow.org/tensorboard/get_started\n",
    "\n",
    "## Data"
   ]
  },
  {
   "cell_type": "code",
   "execution_count": 1,
   "metadata": {},
   "outputs": [],
   "source": [
    "import pandas as pd\n",
    "import numpy as np"
   ]
  },
  {
   "cell_type": "code",
   "execution_count": 3,
   "metadata": {},
   "outputs": [],
   "source": [
    "df = pd.read_csv('./DATA/cancer_classification.csv')"
   ]
  },
  {
   "cell_type": "markdown",
   "metadata": {},
   "source": [
    "### Train Test Split"
   ]
  },
  {
   "cell_type": "code",
   "execution_count": 4,
   "metadata": {},
   "outputs": [],
   "source": [
    "X = df.drop('benign_0__mal_1',axis=1).values\n",
    "y = df['benign_0__mal_1'].values"
   ]
  },
  {
   "cell_type": "code",
   "execution_count": 5,
   "metadata": {},
   "outputs": [],
   "source": [
    "from sklearn.model_selection import train_test_split"
   ]
  },
  {
   "cell_type": "code",
   "execution_count": 6,
   "metadata": {},
   "outputs": [],
   "source": [
    "X_train, X_test, y_train, y_test = train_test_split(X,y,test_size=0.25,random_state=101)"
   ]
  },
  {
   "cell_type": "markdown",
   "metadata": {},
   "source": [
    "\n",
    "### Scaling Data"
   ]
  },
  {
   "cell_type": "code",
   "execution_count": 7,
   "metadata": {},
   "outputs": [],
   "source": [
    "from sklearn.preprocessing import MinMaxScaler"
   ]
  },
  {
   "cell_type": "code",
   "execution_count": 8,
   "metadata": {},
   "outputs": [],
   "source": [
    "scaler = MinMaxScaler()"
   ]
  },
  {
   "cell_type": "code",
   "execution_count": 9,
   "metadata": {},
   "outputs": [
    {
     "data": {
      "text/plain": [
       "MinMaxScaler()"
      ]
     },
     "execution_count": 9,
     "metadata": {},
     "output_type": "execute_result"
    }
   ],
   "source": [
    "scaler.fit(X_train)"
   ]
  },
  {
   "cell_type": "code",
   "execution_count": 10,
   "metadata": {},
   "outputs": [],
   "source": [
    "X_train = scaler.transform(X_train)\n",
    "X_test = scaler.transform(X_test)"
   ]
  },
  {
   "cell_type": "markdown",
   "metadata": {},
   "source": [
    "## Creating the Model"
   ]
  },
  {
   "cell_type": "code",
   "execution_count": 11,
   "metadata": {},
   "outputs": [],
   "source": [
    "import tensorflow as tf\n",
    "from tensorflow.keras.models import Sequential\n",
    "from tensorflow.keras.layers import Dense, Activation,Dropout"
   ]
  },
  {
   "cell_type": "code",
   "execution_count": 12,
   "metadata": {},
   "outputs": [],
   "source": [
    "from tensorflow.keras.callbacks import EarlyStopping,TensorBoard"
   ]
  },
  {
   "cell_type": "code",
   "execution_count": 13,
   "metadata": {},
   "outputs": [],
   "source": [
    "early_stop = EarlyStopping(monitor='val_loss', mode='min', verbose=1, patience=25)"
   ]
  },
  {
   "cell_type": "code",
   "execution_count": 14,
   "metadata": {},
   "outputs": [
    {
     "data": {
      "text/plain": [
       "'D:\\\\my games\\\\Machine Learning and Deep Learning\\\\Udemy_Python for Data Science and Machine Learning Bootcamp\\\\Refactored_Py_DS_ML_Bootcamp-master\\\\22-Deep Learning\\\\TensorFlow_FILES\\\\ANNs'"
      ]
     },
     "execution_count": 14,
     "metadata": {},
     "output_type": "execute_result"
    }
   ],
   "source": [
    "pwd"
   ]
  },
  {
   "cell_type": "markdown",
   "metadata": {},
   "source": [
    "## Creating the Tensorboard Callback\n",
    "\n",
    "TensorBoard is a visualization tool provided with TensorFlow.\n",
    "\n",
    "This callback logs events for TensorBoard, including:\n",
    "* Metrics summary plots\n",
    "* Training graph visualization\n",
    "* Activation histograms\n",
    "* Sampled profiling\n",
    "\n",
    "If you have installed TensorFlow with pip, you should be able\n",
    "to launch TensorBoard from the command line:\n",
    "\n",
    "```sh\n",
    "tensorboard --logdir=path_to_your_logs\n",
    "```\n",
    "\n",
    "You can find more information about TensorBoard\n",
    "[here](https://www.tensorflow.org/tensorboard/).\n",
    "\n",
    "    Arguments:\n",
    "        log_dir: the path of the directory where to save the log files to be\n",
    "          parsed by TensorBoard.\n",
    "        histogram_freq: frequency (in epochs) at which to compute activation and\n",
    "          weight histograms for the layers of the model. If set to 0, histograms\n",
    "          won't be computed. Validation data (or split) must be specified for\n",
    "          histogram visualizations.\n",
    "        write_graph: whether to visualize the graph in TensorBoard. The log file\n",
    "          can become quite large when write_graph is set to True.\n",
    "        write_images: whether to write model weights to visualize as image in\n",
    "          TensorBoard.\n",
    "        update_freq: `'batch'` or `'epoch'` or integer. When using `'batch'`,\n",
    "          writes the losses and metrics to TensorBoard after each batch. The same\n",
    "          applies for `'epoch'`. If using an integer, let's say `1000`, the\n",
    "          callback will write the metrics and losses to TensorBoard every 1000\n",
    "          samples. Note that writing too frequently to TensorBoard can slow down\n",
    "          your training.\n",
    "        profile_batch: Profile the batch to sample compute characteristics. By\n",
    "          default, it will profile the second batch. Set profile_batch=0 to\n",
    "          disable profiling. Must run in TensorFlow eager mode.\n",
    "        embeddings_freq: frequency (in epochs) at which embedding layers will\n",
    "          be visualized. If set to 0, embeddings won't be visualized.\n",
    "       "
   ]
  },
  {
   "cell_type": "code",
   "execution_count": 15,
   "metadata": {},
   "outputs": [],
   "source": [
    "from datetime import datetime"
   ]
  },
  {
   "cell_type": "code",
   "execution_count": 16,
   "metadata": {},
   "outputs": [
    {
     "data": {
      "text/plain": [
       "'2020-09-26--1004'"
      ]
     },
     "execution_count": 16,
     "metadata": {},
     "output_type": "execute_result"
    }
   ],
   "source": [
    "datetime.now().strftime(\"%Y-%m-%d--%H%M\")"
   ]
  },
  {
   "cell_type": "code",
   "execution_count": 17,
   "metadata": {},
   "outputs": [],
   "source": [
    "# WINDOWS: Use \"logs\\\\fit\"\n",
    "# MACOS/LINUX: Use \"logs\\fit\"\n",
    "\n",
    "log_directory = 'logs\\\\fit'\n",
    "\n",
    "# OPTIONAL: ADD A TIMESTAMP FOR UNIQUE FOLDER\n",
    "# timestamp = datetime.now().strftime(\"%Y-%m-%d--%H%M\")\n",
    "# log_directory = log_directory + '\\\\' + timestamp\n",
    "\n",
    "\n",
    "board = TensorBoard(log_dir=log_directory,histogram_freq=1,\n",
    "    write_graph=True,\n",
    "    write_images=True,\n",
    "    update_freq='epoch',\n",
    "    profile_batch=2,\n",
    "    embeddings_freq=1)"
   ]
  },
  {
   "cell_type": "markdown",
   "metadata": {},
   "source": [
    "Now create the model layers:"
   ]
  },
  {
   "cell_type": "code",
   "execution_count": 18,
   "metadata": {},
   "outputs": [],
   "source": [
    "model = Sequential()\n",
    "model.add(Dense(units=30,activation='relu'))\n",
    "model.add(Dropout(0.5))\n",
    "model.add(Dense(units=15,activation='relu'))\n",
    "model.add(Dropout(0.5))\n",
    "model.add(Dense(units=1,activation='sigmoid'))\n",
    "model.compile(loss='binary_crossentropy', optimizer='adam')"
   ]
  },
  {
   "cell_type": "markdown",
   "metadata": {},
   "source": [
    "## Train the Model"
   ]
  },
  {
   "cell_type": "code",
   "execution_count": 19,
   "metadata": {},
   "outputs": [
    {
     "name": "stdout",
     "output_type": "stream",
     "text": [
      "Epoch 1/600\n",
      " 1/14 [=>............................] - ETA: 0s - loss: 0.7768WARNING:tensorflow:From C:\\Users\\Trogg\\anaconda3\\envs\\tf\\lib\\site-packages\\tensorflow\\python\\ops\\summary_ops_v2.py:1277: stop (from tensorflow.python.eager.profiler) is deprecated and will be removed after 2020-07-01.\n",
      "Instructions for updating:\n",
      "use `tf.profiler.experimental.stop` instead.\n",
      " 2/14 [===>..........................] - ETA: 2s - loss: 0.7389WARNING:tensorflow:Callbacks method `on_train_batch_end` is slow compared to the batch time (batch time: 0.0000s vs `on_train_batch_end` time: 0.4399s). Check your callbacks.\n",
      "14/14 [==============================] - 1s 66ms/step - loss: 0.7329 - val_loss: 0.6938\n",
      "Epoch 2/600\n",
      "14/14 [==============================] - 0s 24ms/step - loss: 0.7026 - val_loss: 0.6838\n",
      "Epoch 3/600\n",
      "14/14 [==============================] - 0s 23ms/step - loss: 0.6907 - val_loss: 0.6766\n",
      "Epoch 4/600\n",
      "14/14 [==============================] - 0s 27ms/step - loss: 0.6729 - val_loss: 0.6694\n",
      "Epoch 5/600\n",
      "14/14 [==============================] - 0s 24ms/step - loss: 0.6648 - val_loss: 0.6611\n",
      "Epoch 6/600\n",
      "14/14 [==============================] - 0s 29ms/step - loss: 0.6567 - val_loss: 0.6488\n",
      "Epoch 7/600\n",
      "14/14 [==============================] - 0s 29ms/step - loss: 0.6529 - val_loss: 0.6352\n",
      "Epoch 8/600\n",
      "14/14 [==============================] - 0s 27ms/step - loss: 0.6374 - val_loss: 0.6174\n",
      "Epoch 9/600\n",
      "14/14 [==============================] - 0s 29ms/step - loss: 0.6329 - val_loss: 0.5985\n",
      "Epoch 10/600\n",
      "14/14 [==============================] - 0s 29ms/step - loss: 0.6063 - val_loss: 0.5743\n",
      "Epoch 11/600\n",
      "14/14 [==============================] - 0s 31ms/step - loss: 0.5814 - val_loss: 0.5427\n",
      "Epoch 12/600\n",
      "14/14 [==============================] - 0s 31ms/step - loss: 0.5759 - val_loss: 0.5190\n",
      "Epoch 13/600\n",
      "14/14 [==============================] - 0s 34ms/step - loss: 0.5323 - val_loss: 0.4896\n",
      "Epoch 14/600\n",
      "14/14 [==============================] - 0s 19ms/step - loss: 0.5285 - val_loss: 0.4596\n",
      "Epoch 15/600\n",
      "14/14 [==============================] - 0s 31ms/step - loss: 0.4917 - val_loss: 0.4259\n",
      "Epoch 16/600\n",
      "14/14 [==============================] - 0s 21ms/step - loss: 0.4754 - val_loss: 0.3988\n",
      "Epoch 17/600\n",
      "14/14 [==============================] - 0s 19ms/step - loss: 0.4457 - val_loss: 0.3702\n",
      "Epoch 18/600\n",
      "14/14 [==============================] - 0s 16ms/step - loss: 0.4335 - val_loss: 0.3409\n",
      "Epoch 19/600\n",
      "14/14 [==============================] - 0s 18ms/step - loss: 0.4078 - val_loss: 0.3161\n",
      "Epoch 20/600\n",
      "14/14 [==============================] - 0s 17ms/step - loss: 0.3918 - val_loss: 0.2937\n",
      "Epoch 21/600\n",
      "14/14 [==============================] - 0s 17ms/step - loss: 0.3836 - val_loss: 0.2814\n",
      "Epoch 22/600\n",
      "14/14 [==============================] - 0s 18ms/step - loss: 0.3598 - val_loss: 0.2643\n",
      "Epoch 23/600\n",
      "14/14 [==============================] - 0s 15ms/step - loss: 0.3705 - val_loss: 0.2502\n",
      "Epoch 24/600\n",
      "14/14 [==============================] - 0s 17ms/step - loss: 0.3296 - val_loss: 0.2383\n",
      "Epoch 25/600\n",
      "14/14 [==============================] - 0s 23ms/step - loss: 0.2994 - val_loss: 0.2270\n",
      "Epoch 26/600\n",
      "14/14 [==============================] - 0s 31ms/step - loss: 0.2952 - val_loss: 0.2075\n",
      "Epoch 27/600\n",
      "14/14 [==============================] - 0s 26ms/step - loss: 0.2887 - val_loss: 0.1944\n",
      "Epoch 28/600\n",
      "14/14 [==============================] - 0s 19ms/step - loss: 0.3028 - val_loss: 0.1890\n",
      "Epoch 29/600\n",
      "14/14 [==============================] - 0s 21ms/step - loss: 0.2937 - val_loss: 0.1864\n",
      "Epoch 30/600\n",
      "14/14 [==============================] - 0s 21ms/step - loss: 0.2897 - val_loss: 0.1825\n",
      "Epoch 31/600\n",
      "14/14 [==============================] - 0s 20ms/step - loss: 0.2767 - val_loss: 0.1729\n",
      "Epoch 32/600\n",
      "14/14 [==============================] - 0s 19ms/step - loss: 0.2691 - val_loss: 0.1705\n",
      "Epoch 33/600\n",
      "14/14 [==============================] - 0s 19ms/step - loss: 0.2510 - val_loss: 0.1599\n",
      "Epoch 34/600\n",
      "14/14 [==============================] - 0s 21ms/step - loss: 0.2449 - val_loss: 0.1520\n",
      "Epoch 35/600\n",
      "14/14 [==============================] - 0s 19ms/step - loss: 0.2564 - val_loss: 0.1493\n",
      "Epoch 36/600\n",
      "14/14 [==============================] - 0s 27ms/step - loss: 0.2436 - val_loss: 0.1542\n",
      "Epoch 37/600\n",
      "14/14 [==============================] - 0s 28ms/step - loss: 0.2501 - val_loss: 0.1424\n",
      "Epoch 38/600\n",
      "14/14 [==============================] - 0s 28ms/step - loss: 0.2331 - val_loss: 0.1339\n",
      "Epoch 39/600\n",
      "14/14 [==============================] - 0s 20ms/step - loss: 0.2183 - val_loss: 0.1287\n",
      "Epoch 40/600\n",
      "14/14 [==============================] - 1s 59ms/step - loss: 0.2083 - val_loss: 0.1260\n",
      "Epoch 41/600\n",
      "14/14 [==============================] - 0s 32ms/step - loss: 0.2043 - val_loss: 0.1240\n",
      "Epoch 42/600\n",
      "14/14 [==============================] - 0s 21ms/step - loss: 0.2416 - val_loss: 0.1297\n",
      "Epoch 43/600\n",
      "14/14 [==============================] - 0s 19ms/step - loss: 0.2223 - val_loss: 0.1275\n",
      "Epoch 44/600\n",
      "14/14 [==============================] - 0s 16ms/step - loss: 0.2225 - val_loss: 0.1205\n",
      "Epoch 45/600\n",
      "14/14 [==============================] - 0s 19ms/step - loss: 0.2122 - val_loss: 0.1201\n",
      "Epoch 46/600\n",
      "14/14 [==============================] - 0s 21ms/step - loss: 0.2284 - val_loss: 0.1247\n",
      "Epoch 47/600\n",
      "14/14 [==============================] - 0s 19ms/step - loss: 0.2130 - val_loss: 0.1173\n",
      "Epoch 48/600\n",
      "14/14 [==============================] - 0s 19ms/step - loss: 0.1860 - val_loss: 0.1140\n",
      "Epoch 49/600\n",
      "14/14 [==============================] - 0s 19ms/step - loss: 0.2016 - val_loss: 0.1105\n",
      "Epoch 50/600\n",
      "14/14 [==============================] - 0s 17ms/step - loss: 0.1860 - val_loss: 0.1041\n",
      "Epoch 51/600\n",
      "14/14 [==============================] - 0s 16ms/step - loss: 0.1735 - val_loss: 0.1085\n",
      "Epoch 52/600\n",
      "14/14 [==============================] - 0s 21ms/step - loss: 0.1776 - val_loss: 0.1072\n",
      "Epoch 53/600\n",
      "14/14 [==============================] - 0s 19ms/step - loss: 0.1775 - val_loss: 0.1156\n",
      "Epoch 54/600\n",
      "14/14 [==============================] - 0s 20ms/step - loss: 0.1831 - val_loss: 0.1073\n",
      "Epoch 55/600\n",
      "14/14 [==============================] - 0s 19ms/step - loss: 0.1654 - val_loss: 0.1043\n",
      "Epoch 56/600\n",
      "14/14 [==============================] - 0s 21ms/step - loss: 0.1956 - val_loss: 0.1015\n",
      "Epoch 57/600\n",
      "14/14 [==============================] - 0s 21ms/step - loss: 0.1794 - val_loss: 0.1041\n",
      "Epoch 58/600\n",
      "14/14 [==============================] - 0s 21ms/step - loss: 0.1625 - val_loss: 0.1016\n",
      "Epoch 59/600\n",
      "14/14 [==============================] - 0s 21ms/step - loss: 0.1439 - val_loss: 0.0930\n",
      "Epoch 60/600\n",
      "14/14 [==============================] - 1s 41ms/step - loss: 0.1815 - val_loss: 0.0961\n",
      "Epoch 61/600\n",
      "14/14 [==============================] - 0s 22ms/step - loss: 0.1681 - val_loss: 0.0945\n",
      "Epoch 62/600\n",
      "14/14 [==============================] - 0s 20ms/step - loss: 0.1514 - val_loss: 0.0917\n",
      "Epoch 63/600\n",
      "14/14 [==============================] - 0s 21ms/step - loss: 0.1705 - val_loss: 0.0938\n",
      "Epoch 64/600\n",
      "14/14 [==============================] - 0s 21ms/step - loss: 0.1569 - val_loss: 0.0906\n",
      "Epoch 65/600\n",
      "14/14 [==============================] - 0s 19ms/step - loss: 0.1592 - val_loss: 0.0925\n",
      "Epoch 66/600\n",
      "14/14 [==============================] - 1s 41ms/step - loss: 0.1577 - val_loss: 0.1001\n",
      "Epoch 67/600\n",
      "14/14 [==============================] - 0s 19ms/step - loss: 0.1399 - val_loss: 0.0950\n",
      "Epoch 68/600\n",
      "14/14 [==============================] - 0s 21ms/step - loss: 0.1511 - val_loss: 0.0992\n",
      "Epoch 69/600\n",
      "14/14 [==============================] - 0s 19ms/step - loss: 0.1517 - val_loss: 0.1058\n",
      "Epoch 70/600\n",
      "14/14 [==============================] - 0s 19ms/step - loss: 0.1331 - val_loss: 0.0906\n",
      "Epoch 71/600\n",
      "14/14 [==============================] - 0s 20ms/step - loss: 0.1504 - val_loss: 0.0914\n",
      "Epoch 72/600\n",
      "14/14 [==============================] - 0s 18ms/step - loss: 0.1334 - val_loss: 0.0960\n",
      "Epoch 73/600\n",
      "14/14 [==============================] - 0s 16ms/step - loss: 0.1396 - val_loss: 0.0876\n",
      "Epoch 74/600\n",
      "14/14 [==============================] - 0s 16ms/step - loss: 0.1286 - val_loss: 0.0858\n",
      "Epoch 75/600\n",
      "14/14 [==============================] - 0s 17ms/step - loss: 0.1375 - val_loss: 0.0933\n",
      "Epoch 76/600\n"
     ]
    },
    {
     "name": "stdout",
     "output_type": "stream",
     "text": [
      "14/14 [==============================] - 0s 17ms/step - loss: 0.1326 - val_loss: 0.0849\n",
      "Epoch 77/600\n",
      "14/14 [==============================] - 0s 17ms/step - loss: 0.1417 - val_loss: 0.0930\n",
      "Epoch 78/600\n",
      "14/14 [==============================] - 0s 17ms/step - loss: 0.1102 - val_loss: 0.0824\n",
      "Epoch 79/600\n",
      "14/14 [==============================] - 0s 33ms/step - loss: 0.1330 - val_loss: 0.0846\n",
      "Epoch 80/600\n",
      "14/14 [==============================] - 0s 24ms/step - loss: 0.1445 - val_loss: 0.0998\n",
      "Epoch 81/600\n",
      "14/14 [==============================] - 0s 18ms/step - loss: 0.1127 - val_loss: 0.0883\n",
      "Epoch 82/600\n",
      "14/14 [==============================] - 0s 29ms/step - loss: 0.1095 - val_loss: 0.0874\n",
      "Epoch 83/600\n",
      "14/14 [==============================] - 1s 46ms/step - loss: 0.1475 - val_loss: 0.0865\n",
      "Epoch 84/600\n",
      "14/14 [==============================] - 0s 23ms/step - loss: 0.1113 - val_loss: 0.0821\n",
      "Epoch 85/600\n",
      "14/14 [==============================] - 0s 17ms/step - loss: 0.1195 - val_loss: 0.0895\n",
      "Epoch 86/600\n",
      "14/14 [==============================] - 0s 20ms/step - loss: 0.1283 - val_loss: 0.0931\n",
      "Epoch 87/600\n",
      "14/14 [==============================] - 0s 20ms/step - loss: 0.1365 - val_loss: 0.0817\n",
      "Epoch 88/600\n",
      "14/14 [==============================] - 0s 18ms/step - loss: 0.1271 - val_loss: 0.0853\n",
      "Epoch 89/600\n",
      "14/14 [==============================] - 0s 19ms/step - loss: 0.1305 - val_loss: 0.0937\n",
      "Epoch 90/600\n",
      "14/14 [==============================] - 0s 28ms/step - loss: 0.1087 - val_loss: 0.0918\n",
      "Epoch 91/600\n",
      "14/14 [==============================] - 1s 49ms/step - loss: 0.1241 - val_loss: 0.1019\n",
      "Epoch 92/600\n",
      "14/14 [==============================] - 0s 18ms/step - loss: 0.1171 - val_loss: 0.0870\n",
      "Epoch 93/600\n",
      "14/14 [==============================] - 0s 19ms/step - loss: 0.1298 - val_loss: 0.0825\n",
      "Epoch 94/600\n",
      "14/14 [==============================] - 0s 19ms/step - loss: 0.1104 - val_loss: 0.0844\n",
      "Epoch 95/600\n",
      "14/14 [==============================] - 0s 19ms/step - loss: 0.1119 - val_loss: 0.0799\n",
      "Epoch 96/600\n",
      "14/14 [==============================] - 0s 18ms/step - loss: 0.1240 - val_loss: 0.0871\n",
      "Epoch 97/600\n",
      "14/14 [==============================] - 0s 18ms/step - loss: 0.1019 - val_loss: 0.0902\n",
      "Epoch 98/600\n",
      "14/14 [==============================] - 0s 20ms/step - loss: 0.1074 - val_loss: 0.0953\n",
      "Epoch 99/600\n",
      "14/14 [==============================] - 0s 19ms/step - loss: 0.1138 - val_loss: 0.0901\n",
      "Epoch 100/600\n",
      "14/14 [==============================] - 0s 18ms/step - loss: 0.1113 - val_loss: 0.0865\n",
      "Epoch 101/600\n",
      "14/14 [==============================] - 0s 18ms/step - loss: 0.1161 - val_loss: 0.0835\n",
      "Epoch 102/600\n",
      "14/14 [==============================] - 0s 18ms/step - loss: 0.1091 - val_loss: 0.0923\n",
      "Epoch 103/600\n",
      "14/14 [==============================] - 0s 18ms/step - loss: 0.1095 - val_loss: 0.0902\n",
      "Epoch 104/600\n",
      "14/14 [==============================] - 0s 22ms/step - loss: 0.0990 - val_loss: 0.0861\n",
      "Epoch 105/600\n",
      "14/14 [==============================] - 0s 22ms/step - loss: 0.1037 - val_loss: 0.0806\n",
      "Epoch 106/600\n",
      "14/14 [==============================] - 0s 19ms/step - loss: 0.0819 - val_loss: 0.0852\n",
      "Epoch 107/600\n",
      "14/14 [==============================] - 0s 23ms/step - loss: 0.1083 - val_loss: 0.0799\n",
      "Epoch 108/600\n",
      "14/14 [==============================] - 0s 33ms/step - loss: 0.0977 - val_loss: 0.0842\n",
      "Epoch 109/600\n",
      "14/14 [==============================] - 0s 34ms/step - loss: 0.1152 - val_loss: 0.0961\n",
      "Epoch 110/600\n",
      "14/14 [==============================] - 0s 21ms/step - loss: 0.1125 - val_loss: 0.0966\n",
      "Epoch 111/600\n",
      "14/14 [==============================] - 0s 18ms/step - loss: 0.1133 - val_loss: 0.0852\n",
      "Epoch 112/600\n",
      "14/14 [==============================] - 0s 21ms/step - loss: 0.1276 - val_loss: 0.0859\n",
      "Epoch 113/600\n",
      "14/14 [==============================] - 0s 19ms/step - loss: 0.0892 - val_loss: 0.0835\n",
      "Epoch 114/600\n",
      "14/14 [==============================] - 0s 19ms/step - loss: 0.0988 - val_loss: 0.0765\n",
      "Epoch 115/600\n",
      "14/14 [==============================] - 0s 20ms/step - loss: 0.1103 - val_loss: 0.0884\n",
      "Epoch 116/600\n",
      "14/14 [==============================] - 0s 26ms/step - loss: 0.1008 - val_loss: 0.0801\n",
      "Epoch 117/600\n",
      "14/14 [==============================] - 0s 31ms/step - loss: 0.1051 - val_loss: 0.0826\n",
      "Epoch 118/600\n",
      "14/14 [==============================] - 0s 24ms/step - loss: 0.0927 - val_loss: 0.0867\n",
      "Epoch 119/600\n",
      "14/14 [==============================] - 0s 22ms/step - loss: 0.0783 - val_loss: 0.0976\n",
      "Epoch 120/600\n",
      "14/14 [==============================] - 0s 20ms/step - loss: 0.1015 - val_loss: 0.0772\n",
      "Epoch 121/600\n",
      "14/14 [==============================] - 0s 18ms/step - loss: 0.0850 - val_loss: 0.0803\n",
      "Epoch 122/600\n",
      "14/14 [==============================] - 0s 19ms/step - loss: 0.0939 - val_loss: 0.0762\n",
      "Epoch 123/600\n",
      "14/14 [==============================] - 0s 20ms/step - loss: 0.0812 - val_loss: 0.0788\n",
      "Epoch 124/600\n",
      "14/14 [==============================] - 0s 23ms/step - loss: 0.1063 - val_loss: 0.0799\n",
      "Epoch 125/600\n",
      "14/14 [==============================] - 0s 20ms/step - loss: 0.0793 - val_loss: 0.0809\n",
      "Epoch 126/600\n",
      "14/14 [==============================] - 0s 21ms/step - loss: 0.0967 - val_loss: 0.0837\n",
      "Epoch 127/600\n",
      "14/14 [==============================] - 0s 21ms/step - loss: 0.0787 - val_loss: 0.0811\n",
      "Epoch 128/600\n",
      "14/14 [==============================] - 0s 23ms/step - loss: 0.0939 - val_loss: 0.0766\n",
      "Epoch 129/600\n",
      "14/14 [==============================] - 0s 21ms/step - loss: 0.1125 - val_loss: 0.0842\n",
      "Epoch 130/600\n",
      "14/14 [==============================] - 0s 21ms/step - loss: 0.1055 - val_loss: 0.0857\n",
      "Epoch 131/600\n",
      "14/14 [==============================] - 0s 21ms/step - loss: 0.1039 - val_loss: 0.0789\n",
      "Epoch 132/600\n",
      "14/14 [==============================] - 0s 21ms/step - loss: 0.0987 - val_loss: 0.0717\n",
      "Epoch 133/600\n",
      "14/14 [==============================] - 0s 22ms/step - loss: 0.1065 - val_loss: 0.0840\n",
      "Epoch 134/600\n",
      "14/14 [==============================] - 0s 29ms/step - loss: 0.0840 - val_loss: 0.0757\n",
      "Epoch 135/600\n",
      "14/14 [==============================] - 0s 29ms/step - loss: 0.0948 - val_loss: 0.0755\n",
      "Epoch 136/600\n",
      "14/14 [==============================] - 0s 24ms/step - loss: 0.0876 - val_loss: 0.0880\n",
      "Epoch 137/600\n",
      "14/14 [==============================] - 0s 22ms/step - loss: 0.0926 - val_loss: 0.0785\n",
      "Epoch 138/600\n",
      "14/14 [==============================] - 0s 19ms/step - loss: 0.0946 - val_loss: 0.0804\n",
      "Epoch 139/600\n",
      "14/14 [==============================] - 1s 40ms/step - loss: 0.0916 - val_loss: 0.0792\n",
      "Epoch 140/600\n",
      "14/14 [==============================] - 0s 21ms/step - loss: 0.0826 - val_loss: 0.0823\n",
      "Epoch 141/600\n",
      "14/14 [==============================] - 0s 21ms/step - loss: 0.0811 - val_loss: 0.0797\n",
      "Epoch 142/600\n",
      "14/14 [==============================] - 1s 36ms/step - loss: 0.0832 - val_loss: 0.0843\n",
      "Epoch 143/600\n",
      "14/14 [==============================] - 0s 24ms/step - loss: 0.1024 - val_loss: 0.0866\n",
      "Epoch 144/600\n",
      "14/14 [==============================] - 0s 23ms/step - loss: 0.1045 - val_loss: 0.0746\n",
      "Epoch 145/600\n",
      "14/14 [==============================] - 0s 19ms/step - loss: 0.0779 - val_loss: 0.0969\n",
      "Epoch 146/600\n",
      "14/14 [==============================] - 0s 20ms/step - loss: 0.0882 - val_loss: 0.0844\n",
      "Epoch 147/600\n",
      "14/14 [==============================] - 0s 18ms/step - loss: 0.0750 - val_loss: 0.0794\n",
      "Epoch 148/600\n",
      "14/14 [==============================] - 0s 18ms/step - loss: 0.0711 - val_loss: 0.0847\n",
      "Epoch 149/600\n",
      "14/14 [==============================] - 0s 18ms/step - loss: 0.0727 - val_loss: 0.1052\n",
      "Epoch 150/600\n",
      "14/14 [==============================] - 0s 19ms/step - loss: 0.0832 - val_loss: 0.0915\n",
      "Epoch 151/600\n",
      "14/14 [==============================] - 0s 20ms/step - loss: 0.0906 - val_loss: 0.0836\n",
      "Epoch 152/600\n",
      "14/14 [==============================] - 0s 19ms/step - loss: 0.0727 - val_loss: 0.0801\n",
      "Epoch 153/600\n",
      "14/14 [==============================] - 0s 20ms/step - loss: 0.0843 - val_loss: 0.0846\n",
      "Epoch 154/600\n",
      "14/14 [==============================] - 0s 20ms/step - loss: 0.0893 - val_loss: 0.0904\n",
      "Epoch 155/600\n",
      "14/14 [==============================] - 0s 19ms/step - loss: 0.1028 - val_loss: 0.0818\n",
      "Epoch 156/600\n"
     ]
    },
    {
     "name": "stdout",
     "output_type": "stream",
     "text": [
      "14/14 [==============================] - 0s 19ms/step - loss: 0.0714 - val_loss: 0.0789\n",
      "Epoch 157/600\n",
      "14/14 [==============================] - 0s 18ms/step - loss: 0.0711 - val_loss: 0.0834\n",
      "Epoch 00157: early stopping\n"
     ]
    },
    {
     "data": {
      "text/plain": [
       "<tensorflow.python.keras.callbacks.History at 0x1c7ff137288>"
      ]
     },
     "execution_count": 19,
     "metadata": {},
     "output_type": "execute_result"
    }
   ],
   "source": [
    "model.fit(x=X_train, \n",
    "          y=y_train, \n",
    "          epochs=600,\n",
    "          validation_data=(X_test, y_test), verbose=1,\n",
    "          callbacks=[early_stop,board]\n",
    "          )"
   ]
  },
  {
   "cell_type": "markdown",
   "metadata": {},
   "source": [
    "# Running Tensorboard\n"
   ]
  },
  {
   "cell_type": "markdown",
   "metadata": {},
   "source": [
    "## Running through the Command Line\n",
    "\n",
    "**Watch video to see how to run Tensorboard through a command line call.**"
   ]
  },
  {
   "cell_type": "markdown",
   "metadata": {},
   "source": [
    "Tensorboard will run locally in your browser at [http://localhost:6006/](http://localhost:6006/)\n"
   ]
  },
  {
   "cell_type": "code",
   "execution_count": 20,
   "metadata": {},
   "outputs": [
    {
     "name": "stdout",
     "output_type": "stream",
     "text": [
      "logs\\fit\n"
     ]
    }
   ],
   "source": [
    "print(log_directory)"
   ]
  },
  {
   "cell_type": "code",
   "execution_count": 21,
   "metadata": {},
   "outputs": [
    {
     "data": {
      "text/plain": [
       "'D:\\\\my games\\\\Machine Learning and Deep Learning\\\\Udemy_Python for Data Science and Machine Learning Bootcamp\\\\Refactored_Py_DS_ML_Bootcamp-master\\\\22-Deep Learning\\\\TensorFlow_FILES\\\\ANNs'"
      ]
     },
     "execution_count": 21,
     "metadata": {},
     "output_type": "execute_result"
    }
   ],
   "source": [
    "pwd"
   ]
  },
  {
   "cell_type": "markdown",
   "metadata": {},
   "source": [
    "### Use cd at your command line to change directory to the file path reported back by pwd or your current .py file location.\n",
    "### Then run this code at your command line or terminal"
   ]
  },
  {
   "cell_type": "code",
   "execution_count": null,
   "metadata": {},
   "outputs": [],
   "source": [
    "tensorboard --logdir logs\\fit "
   ]
  }
 ],
 "metadata": {
  "kernelspec": {
   "display_name": "Python 3",
   "language": "python",
   "name": "python3"
  },
  "language_info": {
   "codemirror_mode": {
    "name": "ipython",
    "version": 3
   },
   "file_extension": ".py",
   "mimetype": "text/x-python",
   "name": "python",
   "nbconvert_exporter": "python",
   "pygments_lexer": "ipython3",
   "version": "3.7.8"
  }
 },
 "nbformat": 4,
 "nbformat_minor": 2
}
